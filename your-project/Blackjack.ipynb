{
 "cells": [
  {
   "cell_type": "code",
   "execution_count": 21,
   "id": "d515a7b2",
   "metadata": {},
   "outputs": [],
   "source": [
    "import tkinter as tk\n",
    "#from PIL import ImageTk, Image\n",
    "from requests import request\n",
    "#from io import BytesIO\n",
    "from IPython.display import Image, HTML\n",
    "#from IPython.core.display import HTML \n",
    "import math"
   ]
  },
  {
   "cell_type": "code",
   "execution_count": 2,
   "id": "3efed615",
   "metadata": {},
   "outputs": [],
   "source": [
    "# Initial Dealer Setup\n",
    "class Dealer:\n",
    "    def __init__(self):\n",
    "        self.name = 'Dealer'\n",
    "        self.cards = []\n",
    "        self.hidden_card = \"https://deckofcardsapi.com/static/img/XX.png\"\n",
    "    \n",
    "    def add_card(self, card):\n",
    "        return self.cards.append(card)\n",
    "    \n",
    "    def clear_cards(self):\n",
    "        self.cards = []\n",
    "        return self.cards\n",
    "            "
   ]
  },
  {
   "cell_type": "code",
   "execution_count": 23,
   "id": "063880e9",
   "metadata": {},
   "outputs": [],
   "source": [
    "# Initial Player Setup\n",
    "\n",
    "class Player(Dealer):\n",
    "    def __init__(self):\n",
    "        self.name = self.set_name()\n",
    "        self.balance = 1000\n",
    "        self.cards = []\n",
    "        self.cards_split = []\n",
    "        self.bet = 0\n",
    "    \n",
    "    def set_name(self):\n",
    "        name = input('Ingresa tu nombre: ')\n",
    "        return name\n",
    "        \n",
    "    def bet(self):\n",
    "        print(f\"Tu balance actual es de {self.balance}. Ingresa tu apuesta, recuerda que tiene que ser un número entero\")\n",
    "        while True:    \n",
    "            try:\n",
    "                bet = int(input('Apuesta: '))\n",
    "                if bet < self.balance:\n",
    "                    self.bet = bet\n",
    "                    self.balance -= bet\n",
    "                else:\n",
    "                    print(\"No puedes apostar más de lo que tienes en tu balance. Intenta una apuesta menor.\")\n",
    "                    return self.bet()\n",
    "                    break\n",
    "            except ValueError:\n",
    "                print(\"No ingresaste un número intentalo de nuevo.\")\n",
    "                \n",
    "            \n",
    "    def add_card(self, card):\n",
    "        self.cards.append(card)\n",
    "    \n",
    "    def clear_cards(self):\n",
    "        self.cards = []\n",
    "        return self.cards"
   ]
  },
  {
   "cell_type": "code",
   "execution_count": 18,
   "id": "c5361550",
   "metadata": {},
   "outputs": [],
   "source": [
    "#Initial game Setup\n",
    "\n",
    "class Game:\n",
    "    def __init__(self):\n",
    "        self.player = Player()\n",
    "        self.dealer = Dealer()\n",
    "        self.deck = self.initialize_deck()\n",
    "        self.cards_remaining = 0\n",
    "        self.turn = 'player'\n",
    "        \n",
    "    def initialize_deck(self):\n",
    "        cards = 'https://deckofcardsapi.com/api/deck/new/shuffle/?deck_count=6'\n",
    "        response = request('GET',cards).json()\n",
    "        return response['deck_id']\n",
    "    \n",
    "    def play_hand(self):\n",
    "        if self.player.balance > 0:\n",
    "            self.player.bet()\n",
    "            self.deal_cards()\n",
    "        \n",
    "            self.print_game()\n",
    "            player_values = [card[1] for card in self.player.cards]\n",
    "            for value in player_values:\n",
    "                if value\n",
    "            dealer_values = [card[1] for card in self.player.cards]\n",
    "        else:\n",
    "            resp = input('Ya no tienes balance, deseas comenzar un juego nuevo? (s) Sí, (n) No')\n",
    "            if resp == 's':\n",
    "                game.__init__()\n",
    "                         \n",
    "    \n",
    "    def draw(self):\n",
    "        draw = f'https://deckofcardsapi.com/api/deck/{self.deck}/draw/?count=1'\n",
    "        drawn_card = request('GET', draw).json()\n",
    "        img = drawn_card['cards'][0]['images']['png']\n",
    "        value = drawn_card['cards'][0]['value']\n",
    "        code = drawn_card['cards'][0]['code']\n",
    "        self.cards_remaining = drawn_card['remaining']\n",
    "        return [img, value, code]\n",
    "    \n",
    "    def deal_cards(self):\n",
    "        self.player.add_card(self.draw())\n",
    "        self.dealer.add_card(self.draw())\n",
    "        self.player.add_card(self.draw())\n",
    "        self.dealer.add_card(self.draw())   \n",
    "            \n",
    "    def hand_total(self, hand):\n",
    "        hand_values = [card[1] for card in hand]\n",
    "        total1 = 0\n",
    "        total2 = 0\n",
    "        if len(hand_values) == 2 and 'ACE' in hand_values and ('KING' in hand_values or 'QUEEN' in hand_values or 'Jack' in hand_values or '10' in hand_values):\n",
    "            return '21 - BLACKJACK!'\n",
    "        for value in hand_values:\n",
    "            if value == 'ACE':\n",
    "                total1 += 1\n",
    "                total2 += 11\n",
    "            elif value == 'KING' or value == 'QUEEN' or value == 'JACK':\n",
    "                total1 += 10\n",
    "                total2 += 10\n",
    "            else:\n",
    "                total1 += int(value)\n",
    "                total2 += int(value)\n",
    "            return total1, total2\n",
    "    \n",
    "    def initial_bj_evaluation(self):\n",
    "        player_total = self.hand_total(self.player.cards)\n",
    "        dealer_total = self.hand_total(self.dealer.cards)\n",
    "        if '21 - BLACKJACK!' in player_total:\n",
    "            self.player.balance += self.player.bet + math.floor(self.player.bet*3/2)\n",
    "            return \"BLACKJACK! YOU WIN! 3:2\", self.play_hand()\n",
    "        elif '21 - BLACKJACK' in dealer_total:\n",
    "            self.turn = 'Dealer'\n",
    "            return \"DEALER BLACKJACK - YOU LOSE!\", self.print_game(), self.play_hand()\n",
    "        else:\n",
    "            self.player_action(self.player.cards)\n",
    "    \n",
    "    def bj_evaluation(self, hand):\n",
    "        hand_total = self.hand_total(hand)\n",
    "        if '21 - BLACKJACK!' in hand_total:\n",
    "            self.player.balance += self.player.bet + math.floor(self.player.bet*3/2)\n",
    "            return \"BLACKJACK! YOU WIN! 3:2\"\n",
    "            \n",
    "    def player_action(self, hand):\n",
    "        if len(hand) == 2 and hand[0][1] == hand[1][1]:\n",
    "            action = input('Ingresa tu acción - (s) Split, (d) Double Down, (n) Hit - New Card, (h) Hold or Stand\\n')\n",
    "            if action == 's':\n",
    "            index = self.player.cards.index(hand)\n",
    "            original1 = self.player.cards[index][0]\n",
    "            original2 = self.player.cards[index][1]\n",
    "            self.player.cards[index] = [original1, self.draw()]\n",
    "            self.player.cards.append([original2, self.draw()])\n",
    "            player_total = self.hand_total(self.player.cards)\n",
    "            player_split_total = self.hand_total(self.player.cards_split)\n",
    "    \n",
    "    def print_game(self):\n",
    "        dealer_cards = \"\"\n",
    "        player_cards = \"\"\n",
    "        if self.turn == \"player\":\n",
    "            dealer_cards = f\"\"\"\n",
    "            <td><img src={self.dealer.hidden_card} style=\"width: 60px;\"/></td>\n",
    "            <td><img src={self.dealer.cards[1][0]} style=\"width: 60px;\"/></td>\n",
    "            \"\"\"\n",
    "        else:\n",
    "            for card in self.dealer.cards:\n",
    "                dealer_cards += f\"\"\"<td><img src={card[0]} style=\"width: 60px;\"/></td>\"\"\"\n",
    "        \n",
    "        for card in self.player.cards:\n",
    "            player_cards += f\"\"\"<td><img src={card[0]} style=\"width: 60px;\"/></td>\"\"\"\n",
    "        \n",
    "        return HTML(f\"\"\" \n",
    "                <table>\n",
    "                <tr><h1> Dealer Hand </h1></tr>\n",
    "                <tr>\n",
    "                {dealer_cards}\n",
    "                </tr>\n",
    "                </table>\n",
    "                \n",
    "                <table>\n",
    "                <tr><h1> {self.player.name}'s Hand </h1></tr>\n",
    "                <tr>\n",
    "                {player_cards}\n",
    "                </tr>\n",
    "                </table>\n",
    "        \"\"\")"
   ]
  },
  {
   "cell_type": "code",
   "execution_count": 19,
   "id": "1faaf007",
   "metadata": {},
   "outputs": [
    {
     "name": "stdout",
     "output_type": "stream",
     "text": [
      "Ingresa tu nombre: Rob\n"
     ]
    },
    {
     "data": {
      "text/plain": [
       "{'name': 'Rob', 'balance': 1000, 'cards': []}"
      ]
     },
     "execution_count": 19,
     "metadata": {},
     "output_type": "execute_result"
    }
   ],
   "source": [
    "#Instantiating Player\n",
    "game = Game()\n",
    "game.player.__dict__"
   ]
  },
  {
   "cell_type": "code",
   "execution_count": 20,
   "id": "1fc9f7d2",
   "metadata": {},
   "outputs": [
    {
     "name": "stdout",
     "output_type": "stream",
     "text": [
      "Tu balance actual es de 1000. Ingresa tu apuesta, recuerda que tiene que ser un número entero\n",
      "Apuesta: 100\n",
      "['5', '2']\n",
      "['4', '9']\n"
     ]
    }
   ],
   "source": [
    "# Begin Hand\n",
    "game.play_hand()"
   ]
  },
  {
   "cell_type": "code",
   "execution_count": null,
   "id": "ab24f461",
   "metadata": {},
   "outputs": [],
   "source": [
    "game.__dict__"
   ]
  },
  {
   "cell_type": "code",
   "execution_count": null,
   "id": "1d151338",
   "metadata": {},
   "outputs": [],
   "source": [
    "atributes = vars(dealer)\n",
    "print(atributes)"
   ]
  },
  {
   "cell_type": "code",
   "execution_count": null,
   "id": "0f61855b",
   "metadata": {},
   "outputs": [],
   "source": [
    "game.print_cards()"
   ]
  },
  {
   "cell_type": "code",
   "execution_count": null,
   "id": "7469018b",
   "metadata": {},
   "outputs": [],
   "source": []
  }
 ],
 "metadata": {
  "kernelspec": {
   "display_name": "Python 3 (ipykernel)",
   "language": "python",
   "name": "python3"
  },
  "language_info": {
   "codemirror_mode": {
    "name": "ipython",
    "version": 3
   },
   "file_extension": ".py",
   "mimetype": "text/x-python",
   "name": "python",
   "nbconvert_exporter": "python",
   "pygments_lexer": "ipython3",
   "version": "3.9.7"
  }
 },
 "nbformat": 4,
 "nbformat_minor": 5
}
