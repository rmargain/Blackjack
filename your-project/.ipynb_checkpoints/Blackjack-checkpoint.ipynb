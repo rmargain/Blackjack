{
 "cells": [
  {
   "cell_type": "code",
   "execution_count": 374,
   "id": "aec6a547",
   "metadata": {},
   "outputs": [],
   "source": [
    "import tkinter as tk\n",
    "#from PIL import ImageTk, Image\n",
    "from requests import request\n",
    "#from io import BytesIO\n",
    "from IPython.display import Image, HTML\n",
    "#from IPython.core.display import HTML \n",
    "import math\n",
    "from functools import reduce"
   ]
  },
  {
   "cell_type": "code",
   "execution_count": 375,
   "id": "d3ef8148",
   "metadata": {},
   "outputs": [],
   "source": [
    "# Initial Dealer Setup\n",
    "class Dealer:\n",
    "    def __init__(self):\n",
    "        self.name = 'Dealer'\n",
    "        self.cards = []\n",
    "        self.hidden_card = \"https://deckofcardsapi.com/static/img/XX.png\"\n",
    "        self.totals = []\n",
    "        self.status = 'Active'\n",
    "        self.final = 0\n",
    "    \n",
    "    def add_card(self, card):\n",
    "        return self.cards.append(card)\n",
    "    \n",
    "    def clear_cards(self):\n",
    "        self.cards = []\n",
    "        return self.cards\n",
    "            "
   ]
  },
  {
   "cell_type": "code",
   "execution_count": 376,
   "id": "75db9757",
   "metadata": {},
   "outputs": [],
   "source": [
    "# Initial Player Setup\n",
    "\n",
    "class Player(Dealer):\n",
    "    def __init__(self):\n",
    "        self.name = self.set_name()\n",
    "        self.balance = 1000\n",
    "        self.cards = []\n",
    "        self.bets = []\n",
    "        self.status = []\n",
    "        self.veredict = []\n",
    "        self.totals = []\n",
    "    \n",
    "    def set_name(self):\n",
    "        name = input('Ingresa tu nombre: ')\n",
    "        return name\n",
    "        \n",
    "    def bet(self):\n",
    "        print(f\"Tu balance actual es de {self.balance}. Ingresa tu apuesta, recuerda que tiene que ser un número entero\")\n",
    "        while True:    \n",
    "            try:\n",
    "                bet = int(input('Apuesta: '))\n",
    "                if bet <= self.balance:\n",
    "                    self.bets.append(bet)\n",
    "                    self.balance -= bet\n",
    "                    break\n",
    "                else:\n",
    "                    print(\"No puedes apostar más de lo que tienes en tu balance. Intenta una apuesta menor.\")\n",
    "    \n",
    "            except ValueError:\n",
    "                print(\"No ingresaste un número intentalo de nuevo.\")\n",
    "                \n",
    "            \n",
    "    def add_card(self, card):\n",
    "        self.cards.append(card)\n",
    "    \n",
    "    def clear_cards(self):\n",
    "        self.cards = []\n",
    "        return self.cards"
   ]
  },
  {
   "cell_type": "code",
   "execution_count": 401,
   "id": "a721fb5f",
   "metadata": {},
   "outputs": [],
   "source": [
    "#Initial game Setup\n",
    "\n",
    "class Game:\n",
    "    def __init__(self):\n",
    "        self.player = Player()\n",
    "        self.dealer = Dealer()\n",
    "        self.deck = self.initialize_deck()\n",
    "        self.cards_remaining = 0\n",
    "        self.turn = 'player'\n",
    "        self.deal_cards()\n",
    "        self.print_game()\n",
    "        \n",
    "    def initialize_deck(self):\n",
    "        cards = 'https://deckofcardsapi.com/api/deck/new/shuffle/?deck_count=6'\n",
    "        response = request('GET',cards).json()\n",
    "        return response['deck_id']\n",
    "\n",
    "    def draw(self):\n",
    "        draw = f'https://deckofcardsapi.com/api/deck/{self.deck}/draw/?count=1'\n",
    "        drawn_card = request('GET', draw).json()\n",
    "        img = drawn_card['cards'][0]['images']['png']\n",
    "        value = drawn_card['cards'][0]['value']\n",
    "        code = drawn_card['cards'][0]['code']\n",
    "        self.cards_remaining = drawn_card['remaining']\n",
    "        return [img, value, code]\n",
    "\n",
    "    def deal_cards(self):\n",
    "        self.player.cards = []\n",
    "        self.player.bets = []\n",
    "        self.dealer.cards = []\n",
    "        self.player.status = []\n",
    "        self.player.totals = []\n",
    "        self.player.veredict = []\n",
    "        self.dealer.totals = []\n",
    "        self.dealer.status = 'Active'\n",
    "        self.dealer.final = 0\n",
    "        self.turn = 'player'\n",
    "        if self.player.balance > 0:\n",
    "            self.player.bet()\n",
    "            self.player.cards.append([self.draw()])\n",
    "            self.dealer.cards.append([self.draw()])\n",
    "            self.player.cards[0].append(self.draw())\n",
    "            self.dealer.cards[0].append(self.draw())\n",
    "            self.player.status.append('Active')\n",
    "            self.player.totals.append([])\n",
    "            self.dealer.totals.append([])\n",
    "            self.print_game()\n",
    "            return self.initial_bj_evaluation()\n",
    "        else:\n",
    "            resp = input('Ya no tienes balance, deseas comenzar un juego nuevo? (s) Sí, (n) No')\n",
    "            if resp == 's':\n",
    "                game.__init__()\n",
    "    \n",
    "    def hand_total(self, who):\n",
    "        for i in range(0,len(who.cards)):\n",
    "            hand = who.cards[i]\n",
    "            print(hand)\n",
    "            hand_values = [card[1] for card in hand]\n",
    "            print(hand_values)\n",
    "            total1 = 0\n",
    "            total2 = 0\n",
    "            if len(hand_values) == 2 and 'ACE' in hand_values and ('KING' in hand_values or 'QUEEN' in hand_values or 'Jack' in hand_values or '10' in hand_values):\n",
    "                who.totals[i] = '21 - BLACKJACK!'\n",
    "                return who.totals[i]\n",
    "            for value in hand_values:\n",
    "                if value == 'ACE':\n",
    "                    total1 += 1\n",
    "                    total2 += 11\n",
    "                elif value == 'KING' or value == 'QUEEN' or value == 'JACK':\n",
    "                    total1 += 10\n",
    "                    total2 += 10\n",
    "                else:\n",
    "                    total1 += int(value)\n",
    "                    total2 += int(value)\n",
    "            who.totals[i] = [total1, total2]\n",
    "            return who.totals[i]\n",
    "                \n",
    "    def initial_bj_evaluation(self):\n",
    "        self.hand_total(self.player)\n",
    "        self.hand_total(self.dealer)\n",
    "        if '21 - BLACKJACK!' in self.player.totals:\n",
    "            self.player.balance += self.player.bets[0] + math.floor(self.player.bets[0]*3/2)\n",
    "            self.player.veredict[0] = \"BLACKJACK! YOU WIN! 3:2\"\n",
    "            self.player.status[0] = 'Inactive'\n",
    "            return self.deal_cards()\n",
    "        elif '21 - BLACKJACK' in self.dealer.totals:\n",
    "            self.turn = 'Dealer'\n",
    "            self.player.veredict[0] = \"DEALER BLACKJACK - YOU LOSE!\"\n",
    "            self.player.status[0] = 'Inactive'\n",
    "            self.print_game()\n",
    "            return self.deal_cards()\n",
    "        else:\n",
    "            return self.player_action()\n",
    "    \n",
    "    def player_action(self):\n",
    "        for i in range(len(self.player.cards)):\n",
    "            while self.player.status[i] == 'Active':\n",
    "                if len(self.player.cards[i]) == 2 and self.player.cards[i][0][1] == self.player.cards[i][1][1] and self.player.balance > self.player.bets[i]:\n",
    "                    action = input('Ingresa tu acción - (s) Split, (d) Double Down, (n) Hit - New Card, (h) Hold or Stand\\n')\n",
    "                    if action == 's':\n",
    "                        self.split(i)\n",
    "                        self.print_game()\n",
    "                    if action == 'd':\n",
    "                        self.double_down(i)\n",
    "                        self.print_game()\n",
    "                    if action == 'n':\n",
    "                        self.new_card(i)\n",
    "                        self.print_game()\n",
    "                    if action == 'h':\n",
    "                        self.player.status[i] = 'Inactive'\n",
    "                        self.player.veredict.insert(i, \"N/A\")\n",
    "                        self.print_game()\n",
    "                elif len(self.player.cards[i]) == 2 and self.player.balance > self.player.bets[i]:\n",
    "                    action = input('Ingresa tu acción - (d) Double Down, (n) Hit - New Card, (h) Hold or Stand\\n')\n",
    "                    if action == 'd':\n",
    "                        self.double_down(i)\n",
    "                        self.print_game()\n",
    "                    if action == 'n':\n",
    "                        self.new_card(i)\n",
    "                        self.print_game()\n",
    "                    if action == 'h':\n",
    "                        self.player.status[i] = 'Inactive'\n",
    "                        self.player.veredict.insert(i, \"N/A\")\n",
    "                        self.print_game()\n",
    "                else:\n",
    "                    action = input('Ingresa tu acción - (n) Hit - New Card, (h) Hold or Stand\\n')\n",
    "                    if action == 'n':\n",
    "                        self.new_card(i)\n",
    "                        self.print_game()\n",
    "                    if action == 'h':\n",
    "                        self.player.status[i] = 'Inactive'\n",
    "                        self.player.veredict.insert(i, \"N/A\")\n",
    "                        self.print_game()\n",
    "        self.turn = 'Dealer'\n",
    "        self.print_game()\n",
    "        return self.dealer_action()\n",
    "\n",
    "    \n",
    "    def dealer_action(self):\n",
    "        while self.dealer.status == 'Active':\n",
    "            self.hand_total(self.dealer)\n",
    "            if int(self.dealer.totals[0][0]) > 16 and int(self.dealer.totals[0][1]) > 16:\n",
    "                self.dealer.status = 'Inactive'\n",
    "                self.dealer.final = max(self.dealer.totals[0][0], self.dealer.totals[0][1])\n",
    "            else:\n",
    "                self.dealer.cards[0].append(self.draw())\n",
    "        return self.final_evaluation()\n",
    "            \n",
    "    def final_evaluation(self):\n",
    "        for cards in self.player.cards:\n",
    "            i = self.player.cards.index(cards)\n",
    "            if self.player.veredict[i] == 'N/A':\n",
    "                player_final = max(int(self.player.totals[i][0]), int(self.player.totals[i][0]))\n",
    "                if player_final > int(self.dealer.final) or int(self.dealer.final) > 21:\n",
    "                    self.player.balance += self.player.bets[i]*2\n",
    "                    self.player.veredict[i] = 'Win'\n",
    "                if player_final == int(self.dealer.final):\n",
    "                    self.player.balance += self.player.bets[i]\n",
    "                    self.player.veredict[i] = \"Push\"\n",
    "                if player_final < int(self.dealer.final):\n",
    "                    self.player.veredict[i] = \"Lose\"\n",
    "        return self.deal_cards()\n",
    "                    \n",
    "    def split(self, index):\n",
    "        self.player.bets.insert(index, self.player.bets[index])\n",
    "        self.player.balance -= self.player.bets[index]\n",
    "        original1 = self.player.cards[index][0]\n",
    "        original2 = self.player.cards[index][1]\n",
    "        self.player.cards[index] = [original1, self.draw()]\n",
    "        self.player.cards.append([original2, self.draw()])\n",
    "        self.player.status.append('Active')\n",
    "        self.player.totals.append([])\n",
    "        self.hand_total(self.player)\n",
    "        if self.player.totals[index] == '21 - BLACKJACK!':\n",
    "            self.player.balance += self.player.bets[index] + math.floor(self.player.bets[index]*3/2)\n",
    "            self.player.status[index] = 'Inactive'\n",
    "            self.player.veredict.insert(index, \"BLACKJACK! YOU WIN! 3:2\")\n",
    "        if self.player.totals[index +1] == '21 - BLACKJACK!':\n",
    "            self.player.balance += self.player.bets[index+1] + math.floor(self.player.bets[index+1]*3/2)\n",
    "            self.player.status[index +1] = 'Inactive'\n",
    "            self.player.veredict.insert(index +1, \"BLACKJACK! YOU WIN! 3:2\")\n",
    "        return self.player_action\n",
    "        \n",
    "        \n",
    "        \n",
    "    def double_down(self, index):\n",
    "        self.player.balance -= self.player.bets[index]\n",
    "        self.player.bets[index] += self.player.bets[index]\n",
    "        hand = self.player.cards[index].append(self.draw())\n",
    "        self.hand_total(self.player)\n",
    "        self.player.status[index] = 'Inactive'\n",
    "        if self.player.totals[index][0] > 21 or self.player.totals[index][1] > 21:\n",
    "            self.player.veredict.insert(index, 'Bust! - YOU LOSE')\n",
    "        else:\n",
    "            self.player.veredict.insert(index, 'N/A')\n",
    "        return self.player_action()\n",
    "                \n",
    "    def new_card(self, index):\n",
    "        self.player.cards[index].append(self.draw())\n",
    "        self.hand_total(self.player)\n",
    "        if self.player.totals[index][0] > 21 and self.player.totals[index][1] > 21:\n",
    "            self.player.status[index] = 'Inactvie'\n",
    "            self.player.veredict.insert(index, 'Bust! - YOU LOSE')\n",
    "        return self.player_action()\n",
    "        \n",
    "    \n",
    "    def print_game(self):\n",
    "        dealer_cards = \"\"\n",
    "        player_cards = \"\"\n",
    "        if self.turn == \"player\":\n",
    "            dealer_cards = f\"\"\"\n",
    "            <td><img src={self.dealer.hidden_card} style=\"width: 60px;\"/></td>\n",
    "            <td><img src={self.dealer.cards[0][1][0]} style=\"width: 60px;\"/></td>\n",
    "            \"\"\"\n",
    "        else:\n",
    "            for card in self.dealer.cards[0]:\n",
    "                dealer_cards += f\"\"\"<td><img src={card[0]} style=\"width: 60px;\"/></td>\"\"\"\n",
    "        \n",
    "        for card in self.player.cards[0]:\n",
    "            player_cards += f\"\"\"<td><img src={card[0]} style=\"width: 60px;\"/></td>\"\"\"\n",
    "        \n",
    "        return HTML(f\"\"\" \n",
    "                <table>\n",
    "                <tr><h1> Dealer Hand </h1></tr>\n",
    "                <tr>\n",
    "                {dealer_cards}\n",
    "                </tr>\n",
    "                </table>\n",
    "                \n",
    "                <table>\n",
    "                <tr><h1> {self.player.name}'s Hand </h1></tr>\n",
    "                <tr>\n",
    "                {player_cards}\n",
    "                </tr>\n",
    "                </table>\n",
    "        \"\"\")"
   ]
  },
  {
   "cell_type": "code",
   "execution_count": 399,
   "id": "2a43afd8",
   "metadata": {},
   "outputs": [
    {
     "name": "stdout",
     "output_type": "stream",
     "text": [
      "Ingresa tu nombre: Rob\n"
     ]
    }
   ],
   "source": [
    "#Begin Game\n",
    "game = Game()"
   ]
  },
  {
   "cell_type": "code",
   "execution_count": 400,
   "id": "10813a89",
   "metadata": {},
   "outputs": [
    {
     "name": "stdout",
     "output_type": "stream",
     "text": [
      "Tu balance actual es de 1000. Ingresa tu apuesta, recuerda que tiene que ser un número entero\n",
      "Apuesta: 100\n",
      "[['https://deckofcardsapi.com/static/img/7H.png', '7', '7H'], ['https://deckofcardsapi.com/static/img/2S.png', '2', '2S']]\n",
      "['7', '2']\n",
      "[['https://deckofcardsapi.com/static/img/2D.png', '2', '2D'], ['https://deckofcardsapi.com/static/img/JS.png', 'JACK', 'JS']]\n",
      "['2', 'JACK']\n"
     ]
    },
    {
     "ename": "KeyboardInterrupt",
     "evalue": "Interrupted by user",
     "output_type": "error",
     "traceback": [
      "\u001b[0;31m---------------------------------------------------------------------------\u001b[0m",
      "\u001b[0;31mKeyboardInterrupt\u001b[0m                         Traceback (most recent call last)",
      "\u001b[0;32m/var/folders/bg/fmcp93r90mzd7b67zml5jgwm0000gn/T/ipykernel_6706/3729028713.py\u001b[0m in \u001b[0;36m<module>\u001b[0;34m\u001b[0m\n\u001b[1;32m      1\u001b[0m \u001b[0;31m# Begin Hand\u001b[0m\u001b[0;34m\u001b[0m\u001b[0;34m\u001b[0m\u001b[0m\n\u001b[0;32m----> 2\u001b[0;31m \u001b[0mgame\u001b[0m\u001b[0;34m.\u001b[0m\u001b[0mdeal_cards\u001b[0m\u001b[0;34m(\u001b[0m\u001b[0;34m)\u001b[0m\u001b[0;34m\u001b[0m\u001b[0;34m\u001b[0m\u001b[0m\n\u001b[0m\u001b[1;32m      3\u001b[0m \u001b[0mgame\u001b[0m\u001b[0;34m.\u001b[0m\u001b[0mprint_game\u001b[0m\u001b[0;34m(\u001b[0m\u001b[0;34m)\u001b[0m\u001b[0;34m\u001b[0m\u001b[0;34m\u001b[0m\u001b[0m\n",
      "\u001b[0;32m/var/folders/bg/fmcp93r90mzd7b67zml5jgwm0000gn/T/ipykernel_6706/2388165272.py\u001b[0m in \u001b[0;36mdeal_cards\u001b[0;34m(self)\u001b[0m\n\u001b[1;32m     46\u001b[0m             \u001b[0mself\u001b[0m\u001b[0;34m.\u001b[0m\u001b[0mdealer\u001b[0m\u001b[0;34m.\u001b[0m\u001b[0mtotals\u001b[0m\u001b[0;34m.\u001b[0m\u001b[0mappend\u001b[0m\u001b[0;34m(\u001b[0m\u001b[0;34m[\u001b[0m\u001b[0;34m]\u001b[0m\u001b[0;34m)\u001b[0m\u001b[0;34m\u001b[0m\u001b[0;34m\u001b[0m\u001b[0m\n\u001b[1;32m     47\u001b[0m             \u001b[0mself\u001b[0m\u001b[0;34m.\u001b[0m\u001b[0mprint_game\u001b[0m\u001b[0;34m(\u001b[0m\u001b[0;34m)\u001b[0m\u001b[0;34m\u001b[0m\u001b[0;34m\u001b[0m\u001b[0m\n\u001b[0;32m---> 48\u001b[0;31m             \u001b[0;32mreturn\u001b[0m \u001b[0mself\u001b[0m\u001b[0;34m.\u001b[0m\u001b[0minitial_bj_evaluation\u001b[0m\u001b[0;34m(\u001b[0m\u001b[0;34m)\u001b[0m\u001b[0;34m\u001b[0m\u001b[0;34m\u001b[0m\u001b[0m\n\u001b[0m\u001b[1;32m     49\u001b[0m         \u001b[0;32melse\u001b[0m\u001b[0;34m:\u001b[0m\u001b[0;34m\u001b[0m\u001b[0;34m\u001b[0m\u001b[0m\n\u001b[1;32m     50\u001b[0m             \u001b[0mresp\u001b[0m \u001b[0;34m=\u001b[0m \u001b[0minput\u001b[0m\u001b[0;34m(\u001b[0m\u001b[0;34m'Ya no tienes balance, deseas comenzar un juego nuevo? (s) Sí, (n) No'\u001b[0m\u001b[0;34m)\u001b[0m\u001b[0;34m\u001b[0m\u001b[0;34m\u001b[0m\u001b[0m\n",
      "\u001b[0;32m/var/folders/bg/fmcp93r90mzd7b67zml5jgwm0000gn/T/ipykernel_6706/2388165272.py\u001b[0m in \u001b[0;36minitial_bj_evaluation\u001b[0;34m(self)\u001b[0m\n\u001b[1;32m     91\u001b[0m             \u001b[0;32mreturn\u001b[0m \u001b[0mself\u001b[0m\u001b[0;34m.\u001b[0m\u001b[0mdeal_cards\u001b[0m\u001b[0;34m(\u001b[0m\u001b[0;34m)\u001b[0m\u001b[0;34m\u001b[0m\u001b[0;34m\u001b[0m\u001b[0m\n\u001b[1;32m     92\u001b[0m         \u001b[0;32melse\u001b[0m\u001b[0;34m:\u001b[0m\u001b[0;34m\u001b[0m\u001b[0;34m\u001b[0m\u001b[0m\n\u001b[0;32m---> 93\u001b[0;31m             \u001b[0;32mreturn\u001b[0m \u001b[0mself\u001b[0m\u001b[0;34m.\u001b[0m\u001b[0mplayer_action\u001b[0m\u001b[0;34m(\u001b[0m\u001b[0;34m)\u001b[0m\u001b[0;34m\u001b[0m\u001b[0;34m\u001b[0m\u001b[0m\n\u001b[0m\u001b[1;32m     94\u001b[0m \u001b[0;34m\u001b[0m\u001b[0m\n\u001b[1;32m     95\u001b[0m     \u001b[0;32mdef\u001b[0m \u001b[0mplayer_action\u001b[0m\u001b[0;34m(\u001b[0m\u001b[0mself\u001b[0m\u001b[0;34m)\u001b[0m\u001b[0;34m:\u001b[0m\u001b[0;34m\u001b[0m\u001b[0;34m\u001b[0m\u001b[0m\n",
      "\u001b[0;32m/var/folders/bg/fmcp93r90mzd7b67zml5jgwm0000gn/T/ipykernel_6706/2388165272.py\u001b[0m in \u001b[0;36mplayer_action\u001b[0;34m(self)\u001b[0m\n\u001b[1;32m    112\u001b[0m                         \u001b[0mself\u001b[0m\u001b[0;34m.\u001b[0m\u001b[0mprint_game\u001b[0m\u001b[0;34m(\u001b[0m\u001b[0;34m)\u001b[0m\u001b[0;34m\u001b[0m\u001b[0;34m\u001b[0m\u001b[0m\n\u001b[1;32m    113\u001b[0m                 \u001b[0;32melif\u001b[0m \u001b[0mlen\u001b[0m\u001b[0;34m(\u001b[0m\u001b[0mself\u001b[0m\u001b[0;34m.\u001b[0m\u001b[0mplayer\u001b[0m\u001b[0;34m.\u001b[0m\u001b[0mcards\u001b[0m\u001b[0;34m[\u001b[0m\u001b[0mi\u001b[0m\u001b[0;34m]\u001b[0m\u001b[0;34m)\u001b[0m \u001b[0;34m==\u001b[0m \u001b[0;36m2\u001b[0m \u001b[0;32mand\u001b[0m \u001b[0mself\u001b[0m\u001b[0;34m.\u001b[0m\u001b[0mplayer\u001b[0m\u001b[0;34m.\u001b[0m\u001b[0mbalance\u001b[0m \u001b[0;34m>\u001b[0m \u001b[0mself\u001b[0m\u001b[0;34m.\u001b[0m\u001b[0mplayer\u001b[0m\u001b[0;34m.\u001b[0m\u001b[0mbets\u001b[0m\u001b[0;34m[\u001b[0m\u001b[0mi\u001b[0m\u001b[0;34m]\u001b[0m\u001b[0;34m:\u001b[0m\u001b[0;34m\u001b[0m\u001b[0;34m\u001b[0m\u001b[0m\n\u001b[0;32m--> 114\u001b[0;31m                     \u001b[0maction\u001b[0m \u001b[0;34m=\u001b[0m \u001b[0minput\u001b[0m\u001b[0;34m(\u001b[0m\u001b[0;34m'Ingresa tu acción - (d) Double Down, (n) Hit - New Card, (h) Hold or Stand\\n'\u001b[0m\u001b[0;34m)\u001b[0m\u001b[0;34m\u001b[0m\u001b[0;34m\u001b[0m\u001b[0m\n\u001b[0m\u001b[1;32m    115\u001b[0m                     \u001b[0;32mif\u001b[0m \u001b[0maction\u001b[0m \u001b[0;34m==\u001b[0m \u001b[0;34m'd'\u001b[0m\u001b[0;34m:\u001b[0m\u001b[0;34m\u001b[0m\u001b[0;34m\u001b[0m\u001b[0m\n\u001b[1;32m    116\u001b[0m                         \u001b[0mself\u001b[0m\u001b[0;34m.\u001b[0m\u001b[0mdouble_down\u001b[0m\u001b[0;34m(\u001b[0m\u001b[0mi\u001b[0m\u001b[0;34m)\u001b[0m\u001b[0;34m\u001b[0m\u001b[0;34m\u001b[0m\u001b[0m\n",
      "\u001b[0;32m/Library/Frameworks/Python.framework/Versions/3.9/lib/python3.9/site-packages/ipykernel/kernelbase.py\u001b[0m in \u001b[0;36mraw_input\u001b[0;34m(self, prompt)\u001b[0m\n\u001b[1;32m   1004\u001b[0m                 \u001b[0;34m\"raw_input was called, but this frontend does not support input requests.\"\u001b[0m\u001b[0;34m\u001b[0m\u001b[0;34m\u001b[0m\u001b[0m\n\u001b[1;32m   1005\u001b[0m             )\n\u001b[0;32m-> 1006\u001b[0;31m         return self._input_request(\n\u001b[0m\u001b[1;32m   1007\u001b[0m             \u001b[0mstr\u001b[0m\u001b[0;34m(\u001b[0m\u001b[0mprompt\u001b[0m\u001b[0;34m)\u001b[0m\u001b[0;34m,\u001b[0m\u001b[0;34m\u001b[0m\u001b[0;34m\u001b[0m\u001b[0m\n\u001b[1;32m   1008\u001b[0m             \u001b[0mself\u001b[0m\u001b[0;34m.\u001b[0m\u001b[0m_parent_ident\u001b[0m\u001b[0;34m[\u001b[0m\u001b[0;34m\"shell\"\u001b[0m\u001b[0;34m]\u001b[0m\u001b[0;34m,\u001b[0m\u001b[0;34m\u001b[0m\u001b[0;34m\u001b[0m\u001b[0m\n",
      "\u001b[0;32m/Library/Frameworks/Python.framework/Versions/3.9/lib/python3.9/site-packages/ipykernel/kernelbase.py\u001b[0m in \u001b[0;36m_input_request\u001b[0;34m(self, prompt, ident, parent, password)\u001b[0m\n\u001b[1;32m   1049\u001b[0m             \u001b[0;32mexcept\u001b[0m \u001b[0mKeyboardInterrupt\u001b[0m\u001b[0;34m:\u001b[0m\u001b[0;34m\u001b[0m\u001b[0;34m\u001b[0m\u001b[0m\n\u001b[1;32m   1050\u001b[0m                 \u001b[0;31m# re-raise KeyboardInterrupt, to truncate traceback\u001b[0m\u001b[0;34m\u001b[0m\u001b[0;34m\u001b[0m\u001b[0m\n\u001b[0;32m-> 1051\u001b[0;31m                 \u001b[0;32mraise\u001b[0m \u001b[0mKeyboardInterrupt\u001b[0m\u001b[0;34m(\u001b[0m\u001b[0;34m\"Interrupted by user\"\u001b[0m\u001b[0;34m)\u001b[0m \u001b[0;32mfrom\u001b[0m \u001b[0;32mNone\u001b[0m\u001b[0;34m\u001b[0m\u001b[0;34m\u001b[0m\u001b[0m\n\u001b[0m\u001b[1;32m   1052\u001b[0m             \u001b[0;32mexcept\u001b[0m \u001b[0mException\u001b[0m\u001b[0;34m:\u001b[0m\u001b[0;34m\u001b[0m\u001b[0;34m\u001b[0m\u001b[0m\n\u001b[1;32m   1053\u001b[0m                 \u001b[0mself\u001b[0m\u001b[0;34m.\u001b[0m\u001b[0mlog\u001b[0m\u001b[0;34m.\u001b[0m\u001b[0mwarning\u001b[0m\u001b[0;34m(\u001b[0m\u001b[0;34m\"Invalid Message:\"\u001b[0m\u001b[0;34m,\u001b[0m \u001b[0mexc_info\u001b[0m\u001b[0;34m=\u001b[0m\u001b[0;32mTrue\u001b[0m\u001b[0;34m)\u001b[0m\u001b[0;34m\u001b[0m\u001b[0;34m\u001b[0m\u001b[0m\n",
      "\u001b[0;31mKeyboardInterrupt\u001b[0m: Interrupted by user"
     ]
    }
   ],
   "source": [
    "# Begin Hand\n",
    "game.deal_cards()\n",
    "game.print_game()"
   ]
  },
  {
   "cell_type": "code",
   "execution_count": 391,
   "id": "831f35c4",
   "metadata": {},
   "outputs": [
    {
     "ename": "IndexError",
     "evalue": "list index out of range",
     "output_type": "error",
     "traceback": [
      "\u001b[0;31m---------------------------------------------------------------------------\u001b[0m",
      "\u001b[0;31mIndexError\u001b[0m                                Traceback (most recent call last)",
      "\u001b[0;32m/var/folders/bg/fmcp93r90mzd7b67zml5jgwm0000gn/T/ipykernel_6706/4051777422.py\u001b[0m in \u001b[0;36m<module>\u001b[0;34m\u001b[0m\n\u001b[0;32m----> 1\u001b[0;31m \u001b[0mgame\u001b[0m\u001b[0;34m.\u001b[0m\u001b[0mprint_game\u001b[0m\u001b[0;34m(\u001b[0m\u001b[0;34m)\u001b[0m\u001b[0;34m\u001b[0m\u001b[0;34m\u001b[0m\u001b[0m\n\u001b[0m",
      "\u001b[0;32m/var/folders/bg/fmcp93r90mzd7b67zml5jgwm0000gn/T/ipykernel_6706/1935571599.py\u001b[0m in \u001b[0;36mprint_game\u001b[0;34m(self)\u001b[0m\n\u001b[1;32m    221\u001b[0m             \"\"\"\n\u001b[1;32m    222\u001b[0m         \u001b[0;32melse\u001b[0m\u001b[0;34m:\u001b[0m\u001b[0;34m\u001b[0m\u001b[0;34m\u001b[0m\u001b[0m\n\u001b[0;32m--> 223\u001b[0;31m             \u001b[0;32mfor\u001b[0m \u001b[0mcard\u001b[0m \u001b[0;32min\u001b[0m \u001b[0mself\u001b[0m\u001b[0;34m.\u001b[0m\u001b[0mdealer\u001b[0m\u001b[0;34m.\u001b[0m\u001b[0mcards\u001b[0m\u001b[0;34m[\u001b[0m\u001b[0;36m0\u001b[0m\u001b[0;34m]\u001b[0m\u001b[0;34m:\u001b[0m\u001b[0;34m\u001b[0m\u001b[0;34m\u001b[0m\u001b[0m\n\u001b[0m\u001b[1;32m    224\u001b[0m                 \u001b[0mdealer_cards\u001b[0m \u001b[0;34m+=\u001b[0m \u001b[0;34mf\"\"\"<td><img src={card[0]} style=\"width: 60px;\"/></td>\"\"\"\u001b[0m\u001b[0;34m\u001b[0m\u001b[0;34m\u001b[0m\u001b[0m\n\u001b[1;32m    225\u001b[0m \u001b[0;34m\u001b[0m\u001b[0m\n",
      "\u001b[0;31mIndexError\u001b[0m: list index out of range"
     ]
    }
   ],
   "source": [
    "game.print_game()"
   ]
  },
  {
   "cell_type": "code",
   "execution_count": 361,
   "id": "eba70173",
   "metadata": {},
   "outputs": [
    {
     "data": {
      "text/plain": [
       "{'name': 'Dealer',\n",
       " 'cards': [],\n",
       " 'hidden_card': 'https://deckofcardsapi.com/static/img/XX.png',\n",
       " 'totals': [],\n",
       " 'status': 'Active',\n",
       " 'final': 25,\n",
       " 'finan': 0}"
      ]
     },
     "execution_count": 361,
     "metadata": {},
     "output_type": "execute_result"
    }
   ],
   "source": [
    "game.dealer.__dict__"
   ]
  },
  {
   "cell_type": "code",
   "execution_count": 285,
   "id": "2cbc9a1b",
   "metadata": {},
   "outputs": [
    {
     "data": {
      "text/plain": [
       "{'player': <__main__.Player at 0x7f8f90f2c730>,\n",
       " 'dealer': <__main__.Dealer at 0x7f8fb192ef10>,\n",
       " 'deck': 'hp57688jd31h',\n",
       " 'cards_remaining': 308,\n",
       " 'turn': 'player'}"
      ]
     },
     "execution_count": 285,
     "metadata": {},
     "output_type": "execute_result"
    }
   ],
   "source": [
    "game.__dict__"
   ]
  },
  {
   "cell_type": "code",
   "execution_count": 254,
   "id": "1ea36a62",
   "metadata": {},
   "outputs": [],
   "source": [
    "game.hand_total(game.player)"
   ]
  },
  {
   "cell_type": "code",
   "execution_count": 256,
   "id": "2d594f89",
   "metadata": {},
   "outputs": [],
   "source": [
    "cards = [[['https://deckofcardsapi.com/static/img/9C.png', '9', '9C'],\n",
    "   ['https://deckofcardsapi.com/static/img/5S.png', '5', '5S']]]"
   ]
  },
  {
   "cell_type": "code",
   "execution_count": 273,
   "id": "60c1e82b",
   "metadata": {},
   "outputs": [
    {
     "name": "stdout",
     "output_type": "stream",
     "text": [
      "[['https://deckofcardsapi.com/static/img/9C.png', '9', '9C'], ['https://deckofcardsapi.com/static/img/5S.png', '5', '5S']]\n",
      "['9', '5']\n",
      "[14, 14]\n"
     ]
    }
   ],
   "source": [
    "def algo(cards):\n",
    "    for i in range(len(cards)):\n",
    "        hand = cards[i]\n",
    "        print(hand)\n",
    "        hand_values = [card[1] for card in hand]\n",
    "        print(hand_values)\n",
    "        total1 = 0\n",
    "        total2 = 0\n",
    "        if len(hand_values) == 2 and 'ACE' in hand_values and ('KING' in hand_values or 'QUEEN' in hand_values or 'Jack' in hand_values or '10' in hand_values):\n",
    "            return '21 - BLACKJACK!'\n",
    "        for value in hand_values:\n",
    "            if value == 'ACE':\n",
    "                total1 += 1\n",
    "                total2 += 11\n",
    "            elif value == 'KING' or value == 'QUEEN' or value == 'JACK':\n",
    "                total1 += 10\n",
    "                total2 += 10\n",
    "            else:\n",
    "                total1 += int(value)\n",
    "                total2 += int(value)\n",
    "        return [total1, total2]\n",
    "\n",
    "print(algo(cards))"
   ]
  },
  {
   "cell_type": "code",
   "execution_count": null,
   "id": "b18b3035",
   "metadata": {},
   "outputs": [],
   "source": [
    "hand_values = [card[1] for card in hand]"
   ]
  },
  {
   "cell_type": "code",
   "execution_count": null,
   "id": "c6e6d73f",
   "metadata": {},
   "outputs": [],
   "source": []
  },
  {
   "cell_type": "code",
   "execution_count": null,
   "id": "231295b0",
   "metadata": {},
   "outputs": [],
   "source": []
  },
  {
   "cell_type": "code",
   "execution_count": 54,
   "id": "e9217936",
   "metadata": {},
   "outputs": [
    {
     "data": {
      "text/plain": [
       "{'player': <__main__.Player at 0x7f8fb1e6bbe0>,\n",
       " 'dealer': <__main__.Dealer at 0x7f8fb1e5f730>,\n",
       " 'deck': 'cnrucw8q0saw',\n",
       " 'cards_remaining': 308,\n",
       " 'turn': 'player'}"
      ]
     },
     "execution_count": 54,
     "metadata": {},
     "output_type": "execute_result"
    }
   ],
   "source": [
    "game.__dict__"
   ]
  },
  {
   "cell_type": "code",
   "execution_count": 55,
   "id": "02a49c1b",
   "metadata": {},
   "outputs": [
    {
     "ename": "NameError",
     "evalue": "name 'dealer' is not defined",
     "output_type": "error",
     "traceback": [
      "\u001b[0;31m---------------------------------------------------------------------------\u001b[0m",
      "\u001b[0;31mNameError\u001b[0m                                 Traceback (most recent call last)",
      "\u001b[0;32m/var/folders/bg/fmcp93r90mzd7b67zml5jgwm0000gn/T/ipykernel_6706/2204293186.py\u001b[0m in \u001b[0;36m<module>\u001b[0;34m\u001b[0m\n\u001b[0;32m----> 1\u001b[0;31m \u001b[0matributes\u001b[0m \u001b[0;34m=\u001b[0m \u001b[0mvars\u001b[0m\u001b[0;34m(\u001b[0m\u001b[0mdealer\u001b[0m\u001b[0;34m)\u001b[0m\u001b[0;34m\u001b[0m\u001b[0;34m\u001b[0m\u001b[0m\n\u001b[0m\u001b[1;32m      2\u001b[0m \u001b[0mprint\u001b[0m\u001b[0;34m(\u001b[0m\u001b[0matributes\u001b[0m\u001b[0;34m)\u001b[0m\u001b[0;34m\u001b[0m\u001b[0;34m\u001b[0m\u001b[0m\n",
      "\u001b[0;31mNameError\u001b[0m: name 'dealer' is not defined"
     ]
    }
   ],
   "source": [
    "atributes = vars(dealer)\n",
    "print(atributes)"
   ]
  },
  {
   "cell_type": "code",
   "execution_count": 57,
   "id": "2f96e9b3",
   "metadata": {},
   "outputs": [
    {
     "data": {
      "text/html": [
       " \n",
       "                <table>\n",
       "                <tr><h1> Dealer Hand </h1></tr>\n",
       "                <tr>\n",
       "                \n",
       "            <td><img src=https://deckofcardsapi.com/static/img/XX.png style=\"width: 60px;\"/></td>\n",
       "            <td><img src=https://deckofcardsapi.com/static/img/3H.png style=\"width: 60px;\"/></td>\n",
       "            \n",
       "                </tr>\n",
       "                </table>\n",
       "                \n",
       "                <table>\n",
       "                <tr><h1> rob's Hand </h1></tr>\n",
       "                <tr>\n",
       "                <td><img src=https://deckofcardsapi.com/static/img/7D.png style=\"width: 60px;\"/></td><td><img src=https://deckofcardsapi.com/static/img/3C.png style=\"width: 60px;\"/></td>\n",
       "                </tr>\n",
       "                </table>\n",
       "        "
      ],
      "text/plain": [
       "<IPython.core.display.HTML object>"
      ]
     },
     "execution_count": 57,
     "metadata": {},
     "output_type": "execute_result"
    }
   ],
   "source": [
    "game.print_game()"
   ]
  },
  {
   "cell_type": "code",
   "execution_count": null,
   "id": "844bc44f",
   "metadata": {},
   "outputs": [],
   "source": []
  }
 ],
 "metadata": {
  "kernelspec": {
   "display_name": "Python 3 (ipykernel)",
   "language": "python",
   "name": "python3"
  },
  "language_info": {
   "codemirror_mode": {
    "name": "ipython",
    "version": 3
   },
   "file_extension": ".py",
   "mimetype": "text/x-python",
   "name": "python",
   "nbconvert_exporter": "python",
   "pygments_lexer": "ipython3",
   "version": "3.9.7"
  }
 },
 "nbformat": 4,
 "nbformat_minor": 5
}
